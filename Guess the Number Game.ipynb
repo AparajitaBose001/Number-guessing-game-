{
 "cells": [
  {
   "cell_type": "code",
   "execution_count": 2,
   "metadata": {},
   "outputs": [
    {
     "name": "stdout",
     "output_type": "stream",
     "text": [
      "Guess a number between 1 to 50:30\n",
      "You Guessed a smaller number\n",
      "\n",
      " Guess a number between 1 to 50:50\n",
      "You Guessed a bigger number\n",
      "\n",
      " Guess a number between 1 to 50:10\n",
      "You Guessed a smaller number\n",
      "\n",
      " Guess a number between 1 to 50:20\n",
      "You Guessed a smaller number\n",
      "\n",
      " Guess a number between 1 to 50:30\n",
      "You Guessed a smaller number\n",
      "\n",
      " Guess a number between 1 to 50:25\n",
      "You Guessed a smaller number\n",
      "\n",
      " Guess a number between 1 to 50:30\n",
      "You Guessed a smaller number\n",
      "\n",
      " Guess a number between 1 to 50:35\n",
      " You guessed the right number\n"
     ]
    }
   ],
   "source": [
    "import random\n",
    "Number=random.randrange(1,50)\n",
    "guess=int(input(\"Guess a number between 1 to 50:\"))\n",
    "while guess!=Number:\n",
    "    if guess> Number:\n",
    "        print(\"You Guessed a bigger number\")\n",
    "        print(\"Please guess again\")\n",
    "        guess=int(input(\"\\n Guess a number between 1 to 50:\"))\n",
    "    else:\n",
    "        print(\"You Guessed a smaller number\")\n",
    "        print(\"Please guess again\")\n",
    "        guess=int(input(\"\\n Guess a number between 1 to 50:\"))\n",
    "        \n",
    "print(\" You guessed the right number\")    "
   ]
  },
  {
   "cell_type": "code",
   "execution_count": null,
   "metadata": {},
   "outputs": [],
   "source": []
  },
  {
   "cell_type": "code",
   "execution_count": null,
   "metadata": {},
   "outputs": [],
   "source": []
  },
  {
   "cell_type": "code",
   "execution_count": null,
   "metadata": {},
   "outputs": [],
   "source": []
  }
 ],
 "metadata": {
  "kernelspec": {
   "display_name": "Python 3",
   "language": "python",
   "name": "python3"
  },
  "language_info": {
   "codemirror_mode": {
    "name": "ipython",
    "version": 3
   },
   "file_extension": ".py",
   "mimetype": "text/x-python",
   "name": "python",
   "nbconvert_exporter": "python",
   "pygments_lexer": "ipython3",
   "version": "3.7.6"
  }
 },
 "nbformat": 4,
 "nbformat_minor": 4
}
